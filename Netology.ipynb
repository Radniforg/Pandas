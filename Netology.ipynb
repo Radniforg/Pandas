{
 "cells": [
  {
   "cell_type": "code",
   "execution_count": 1,
   "metadata": {},
   "outputs": [],
   "source": [
    "import pandas as pd\n",
    "        "
   ]
  },
  {
   "cell_type": "code",
   "execution_count": 2,
   "metadata": {},
   "outputs": [],
   "source": [
    "def top_three_in_years(years_list):\n",
    "    data_frame_list = []\n",
    "    for year in years_list:\n",
    "        temp_df = pd.read_csv(f'yob{year}.txt', names=['Names', 'Gender', 'Count'])\n",
    "        temp_df['Year'] = year\n",
    "        data_frame_list.append(temp_df)\n",
    "    complete_df = pd.concat(data_frame_list)\n",
    "    top_three_df = complete_df[:3]['Names']\n",
    "    top_three_list = top_three_df.values.tolist()\n",
    "    return top_three_list"
   ]
  },
  {
   "cell_type": "code",
   "execution_count": 3,
   "metadata": {},
   "outputs": [
    {
     "name": "stdout",
     "output_type": "stream",
     "text": [
      "Top-3 names in ['1880', '1930', '1980'] years: ['Mary', 'Anna', 'Emma']\n"
     ]
    }
   ],
   "source": [
    "years = ['1880', '1930', '1980']\n",
    "print(f'Top-3 names in {years} years: {top_three_in_years(years)}')"
   ]
  },
  {
   "cell_type": "code",
   "execution_count": 4,
   "metadata": {},
   "outputs": [
    {
     "name": "stdout",
     "output_type": "stream",
     "text": [
      "count_dynamics(['1880', '1930', '1980']) = {\n",
      " \"F\": [942, 5248, 12159]\n",
      " \"M\": [1058, 4543, 7293]\n",
      "} \n"
     ]
    }
   ],
   "source": [
    "def different_names(years_list):\n",
    "    data_frame_list = []\n",
    "    for year in years_list:\n",
    "        temp_df = pd.read_csv(f'yob{year}.txt', names=['Names', 'Gender', 'Count'])\n",
    "        temp_df['Year'] = year\n",
    "        data_frame_list.append(temp_df)\n",
    "    complete_df = pd.concat(data_frame_list)\n",
    "    stacked = complete_df.groupby(['Gender', 'Year'])['Count'].count()\n",
    "    unstacked = stacked.unstack('Gender')\n",
    "    female_values = unstacked['F'].values.tolist()\n",
    "    male_values = unstacked['M'].values.tolist()\n",
    "    return f'count_dynamics({years_list}) = {{\\n \"F\": {female_values}\\n \"M\": {male_values}\\n}} '\n",
    "print(different_names(['1880', '1930', '1980']))"
   ]
  }
 ],
 "metadata": {
  "kernelspec": {
   "display_name": "Python 3",
   "language": "python",
   "name": "python3"
  },
  "language_info": {
   "codemirror_mode": {
    "name": "ipython",
    "version": 3
   },
   "file_extension": ".py",
   "mimetype": "text/x-python",
   "name": "python",
   "nbconvert_exporter": "python",
   "pygments_lexer": "ipython3",
   "version": "3.7.6"
  }
 },
 "nbformat": 4,
 "nbformat_minor": 4
}
